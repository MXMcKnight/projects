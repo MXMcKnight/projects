{
 "cells": [
  {
   "cell_type": "code",
   "execution_count": 1,
   "metadata": {},
   "outputs": [],
   "source": [
    "# Import needed libraries\n",
    "import pandas as pd\n",
    "import numpy as np\n",
    "import arcpy\n",
    "import os"
   ]
  },
  {
   "cell_type": "markdown",
   "metadata": {},
   "source": [
    "#### I. Read in CSV Files"
   ]
  },
  {
   "cell_type": "code",
   "execution_count": 2,
   "metadata": {},
   "outputs": [
    {
     "data": {
      "text/html": [
       "<div>\n",
       "<style scoped>\n",
       "    .dataframe tbody tr th:only-of-type {\n",
       "        vertical-align: middle;\n",
       "    }\n",
       "\n",
       "    .dataframe tbody tr th {\n",
       "        vertical-align: top;\n",
       "    }\n",
       "\n",
       "    .dataframe thead th {\n",
       "        text-align: right;\n",
       "    }\n",
       "</style>\n",
       "<table border=\"1\" class=\"dataframe\">\n",
       "  <thead>\n",
       "    <tr style=\"text-align: right;\">\n",
       "      <th></th>\n",
       "      <th>county</th>\n",
       "      <th>total_2008</th>\n",
       "      <th>dem_2008</th>\n",
       "      <th>gop_2008</th>\n",
       "      <th>oth_2008</th>\n",
       "      <th>total_2012</th>\n",
       "      <th>dem_2012</th>\n",
       "      <th>gop_2012</th>\n",
       "      <th>oth_2012</th>\n",
       "      <th>total_2016</th>\n",
       "      <th>dem_2016</th>\n",
       "      <th>gop_2016</th>\n",
       "      <th>oth_2016</th>\n",
       "    </tr>\n",
       "    <tr>\n",
       "      <th>geoid</th>\n",
       "      <th></th>\n",
       "      <th></th>\n",
       "      <th></th>\n",
       "      <th></th>\n",
       "      <th></th>\n",
       "      <th></th>\n",
       "      <th></th>\n",
       "      <th></th>\n",
       "      <th></th>\n",
       "      <th></th>\n",
       "      <th></th>\n",
       "      <th></th>\n",
       "      <th></th>\n",
       "    </tr>\n",
       "  </thead>\n",
       "  <tbody>\n",
       "    <tr>\n",
       "      <th>26041</th>\n",
       "      <td>Delta County</td>\n",
       "      <td>19064</td>\n",
       "      <td>9974</td>\n",
       "      <td>8763</td>\n",
       "      <td>327</td>\n",
       "      <td>18043</td>\n",
       "      <td>8330</td>\n",
       "      <td>9533</td>\n",
       "      <td>180</td>\n",
       "      <td>18467</td>\n",
       "      <td>6431</td>\n",
       "      <td>11112</td>\n",
       "      <td>924</td>\n",
       "    </tr>\n",
       "    <tr>\n",
       "      <th>48295</th>\n",
       "      <td>Lipscomb County</td>\n",
       "      <td>1256</td>\n",
       "      <td>155</td>\n",
       "      <td>1093</td>\n",
       "      <td>8</td>\n",
       "      <td>1168</td>\n",
       "      <td>119</td>\n",
       "      <td>1044</td>\n",
       "      <td>5</td>\n",
       "      <td>1322</td>\n",
       "      <td>135</td>\n",
       "      <td>1159</td>\n",
       "      <td>28</td>\n",
       "    </tr>\n",
       "    <tr>\n",
       "      <th>01127</th>\n",
       "      <td>Walker County</td>\n",
       "      <td>28652</td>\n",
       "      <td>7420</td>\n",
       "      <td>20722</td>\n",
       "      <td>510</td>\n",
       "      <td>28497</td>\n",
       "      <td>6551</td>\n",
       "      <td>21633</td>\n",
       "      <td>313</td>\n",
       "      <td>29243</td>\n",
       "      <td>4486</td>\n",
       "      <td>24208</td>\n",
       "      <td>549</td>\n",
       "    </tr>\n",
       "  </tbody>\n",
       "</table>\n",
       "</div>"
      ],
      "text/plain": [
       "                county  total_2008  dem_2008  gop_2008  oth_2008  total_2012  \\\n",
       "geoid                                                                          \n",
       "26041     Delta County       19064      9974      8763       327       18043   \n",
       "48295  Lipscomb County        1256       155      1093         8        1168   \n",
       "01127    Walker County       28652      7420     20722       510       28497   \n",
       "\n",
       "       dem_2012  gop_2012  oth_2012  total_2016  dem_2016  gop_2016  oth_2016  \n",
       "geoid                                                                          \n",
       "26041      8330      9533       180       18467      6431     11112       924  \n",
       "48295       119      1044         5        1322       135      1159        28  \n",
       "01127      6551     21633       313       29243      4486     24208       549  "
      ]
     },
     "execution_count": 2,
     "metadata": {},
     "output_type": "execute_result"
    }
   ],
   "source": [
    "# Read in the 'presidential_election_results_2008_through_2016.csv' file\n",
    "url = 'https://raw.githubusercontent.com/MXMcKnight/data/master/presidential_election_results_2008_through_2016.csv'\n",
    "df_presidential_election_results = pd.read_csv(url, dtype = {'geoid':np.str})\n",
    "\n",
    "# Use 'geoid' as the unique identifier\n",
    "df_presidential_election_results = df_presidential_election_results.set_index('geoid')\n",
    "df_presidential_election_results.head(3)"
   ]
  },
  {
   "cell_type": "code",
   "execution_count": 3,
   "metadata": {},
   "outputs": [
    {
     "data": {
      "text/html": [
       "<div>\n",
       "<style scoped>\n",
       "    .dataframe tbody tr th:only-of-type {\n",
       "        vertical-align: middle;\n",
       "    }\n",
       "\n",
       "    .dataframe tbody tr th {\n",
       "        vertical-align: top;\n",
       "    }\n",
       "\n",
       "    .dataframe thead th {\n",
       "        text-align: right;\n",
       "    }\n",
       "</style>\n",
       "<table border=\"1\" class=\"dataframe\">\n",
       "  <thead>\n",
       "    <tr style=\"text-align: right;\">\n",
       "      <th></th>\n",
       "      <th>state</th>\n",
       "      <th>county</th>\n",
       "      <th>flu_vax_pct</th>\n",
       "      <th>flu_vax_pct_black</th>\n",
       "      <th>flu_vax_pct_hispanic</th>\n",
       "      <th>flu_vax_pct_white</th>\n",
       "    </tr>\n",
       "    <tr>\n",
       "      <th>fips</th>\n",
       "      <th></th>\n",
       "      <th></th>\n",
       "      <th></th>\n",
       "      <th></th>\n",
       "      <th></th>\n",
       "      <th></th>\n",
       "    </tr>\n",
       "  </thead>\n",
       "  <tbody>\n",
       "    <tr>\n",
       "      <th>01001</th>\n",
       "      <td>Alabama</td>\n",
       "      <td>Autauga</td>\n",
       "      <td>41.0</td>\n",
       "      <td>32.0</td>\n",
       "      <td>36.0</td>\n",
       "      <td>42.0</td>\n",
       "    </tr>\n",
       "    <tr>\n",
       "      <th>01003</th>\n",
       "      <td>Alabama</td>\n",
       "      <td>Baldwin</td>\n",
       "      <td>45.0</td>\n",
       "      <td>33.0</td>\n",
       "      <td>35.0</td>\n",
       "      <td>46.0</td>\n",
       "    </tr>\n",
       "    <tr>\n",
       "      <th>01005</th>\n",
       "      <td>Alabama</td>\n",
       "      <td>Barbour</td>\n",
       "      <td>37.0</td>\n",
       "      <td>33.0</td>\n",
       "      <td>NaN</td>\n",
       "      <td>38.0</td>\n",
       "    </tr>\n",
       "  </tbody>\n",
       "</table>\n",
       "</div>"
      ],
      "text/plain": [
       "         state   county  flu_vax_pct  flu_vax_pct_black  flu_vax_pct_hispanic  \\\n",
       "fips                                                                            \n",
       "01001  Alabama  Autauga         41.0               32.0                  36.0   \n",
       "01003  Alabama  Baldwin         45.0               33.0                  35.0   \n",
       "01005  Alabama  Barbour         37.0               33.0                   NaN   \n",
       "\n",
       "       flu_vax_pct_white  \n",
       "fips                      \n",
       "01001               42.0  \n",
       "01003               46.0  \n",
       "01005               38.0  "
      ]
     },
     "execution_count": 3,
     "metadata": {},
     "output_type": "execute_result"
    }
   ],
   "source": [
    "# Read in the 'flu_vaccination_percentages.csv' file\n",
    "url = 'https://raw.githubusercontent.com/MXMcKnight/data/master/flu_vaccination_percentages_2016.csv'\n",
    "df_flu_vax_pct = pd.read_csv(url, dtype = {'fips':np.str})\n",
    "\n",
    "# Use 'fips' as the unique identifier\n",
    "df_flu_vax_pct = df_flu_vax_pct.set_index('fips')\n",
    "df_flu_vax_pct.head(3)"
   ]
  },
  {
   "cell_type": "code",
   "execution_count": 4,
   "metadata": {},
   "outputs": [
    {
     "data": {
      "text/html": [
       "<div>\n",
       "<style scoped>\n",
       "    .dataframe tbody tr th:only-of-type {\n",
       "        vertical-align: middle;\n",
       "    }\n",
       "\n",
       "    .dataframe tbody tr th {\n",
       "        vertical-align: top;\n",
       "    }\n",
       "\n",
       "    .dataframe thead th {\n",
       "        text-align: right;\n",
       "    }\n",
       "</style>\n",
       "<table border=\"1\" class=\"dataframe\">\n",
       "  <thead>\n",
       "    <tr style=\"text-align: right;\">\n",
       "      <th></th>\n",
       "      <th>county</th>\n",
       "      <th>state</th>\n",
       "      <th>total_population</th>\n",
       "    </tr>\n",
       "    <tr>\n",
       "      <th>geoid</th>\n",
       "      <th></th>\n",
       "      <th></th>\n",
       "      <th></th>\n",
       "    </tr>\n",
       "  </thead>\n",
       "  <tbody>\n",
       "    <tr>\n",
       "      <th>01001</th>\n",
       "      <td>Autauga County</td>\n",
       "      <td>Alabama</td>\n",
       "      <td>55049</td>\n",
       "    </tr>\n",
       "    <tr>\n",
       "      <th>01003</th>\n",
       "      <td>Baldwin County</td>\n",
       "      <td>Alabama</td>\n",
       "      <td>199510</td>\n",
       "    </tr>\n",
       "    <tr>\n",
       "      <th>01005</th>\n",
       "      <td>Barbour County</td>\n",
       "      <td>Alabama</td>\n",
       "      <td>26614</td>\n",
       "    </tr>\n",
       "  </tbody>\n",
       "</table>\n",
       "</div>"
      ],
      "text/plain": [
       "               county     state  total_population\n",
       "geoid                                            \n",
       "01001  Autauga County   Alabama             55049\n",
       "01003  Baldwin County   Alabama            199510\n",
       "01005  Barbour County   Alabama             26614"
      ]
     },
     "execution_count": 4,
     "metadata": {},
     "output_type": "execute_result"
    }
   ],
   "source": [
    "# Read in the 'total_population_2016.csv' file\n",
    "url = 'https://raw.githubusercontent.com/MXMcKnight/data/master/total_population_2016.csv'\n",
    "df_total_population = pd.read_csv(url, dtype = {'geoid':np.str}, encoding = 'latin-1')\n",
    "\n",
    "# Use 'geoid' as the unique identifier\n",
    "df_total_population = df_total_population.set_index('geoid')\n",
    "df_total_population.head(3)"
   ]
  },
  {
   "cell_type": "markdown",
   "metadata": {},
   "source": [
    "#### II. Create Data Frame"
   ]
  },
  {
   "cell_type": "code",
   "execution_count": 5,
   "metadata": {},
   "outputs": [
    {
     "data": {
      "text/html": [
       "<div>\n",
       "<style scoped>\n",
       "    .dataframe tbody tr th:only-of-type {\n",
       "        vertical-align: middle;\n",
       "    }\n",
       "\n",
       "    .dataframe tbody tr th {\n",
       "        vertical-align: top;\n",
       "    }\n",
       "\n",
       "    .dataframe thead th {\n",
       "        text-align: right;\n",
       "    }\n",
       "</style>\n",
       "<table border=\"1\" class=\"dataframe\">\n",
       "  <thead>\n",
       "    <tr style=\"text-align: right;\">\n",
       "      <th></th>\n",
       "      <th>total_pop</th>\n",
       "      <th>trump_pct_2016</th>\n",
       "      <th>clinton_pct_2016</th>\n",
       "      <th>flu_vax_pct</th>\n",
       "      <th>flu_vax_pct_black</th>\n",
       "      <th>flu_vax_pct_hispanic</th>\n",
       "      <th>flu_vax_pct_white</th>\n",
       "    </tr>\n",
       "    <tr>\n",
       "      <th>geoid</th>\n",
       "      <th></th>\n",
       "      <th></th>\n",
       "      <th></th>\n",
       "      <th></th>\n",
       "      <th></th>\n",
       "      <th></th>\n",
       "      <th></th>\n",
       "    </tr>\n",
       "  </thead>\n",
       "  <tbody>\n",
       "    <tr>\n",
       "      <th>01001</th>\n",
       "      <td>55049</td>\n",
       "      <td>73.435789</td>\n",
       "      <td>23.956855</td>\n",
       "      <td>41.0</td>\n",
       "      <td>32.0</td>\n",
       "      <td>36.0</td>\n",
       "      <td>42.0</td>\n",
       "    </tr>\n",
       "    <tr>\n",
       "      <th>01003</th>\n",
       "      <td>199510</td>\n",
       "      <td>77.351472</td>\n",
       "      <td>19.565310</td>\n",
       "      <td>45.0</td>\n",
       "      <td>33.0</td>\n",
       "      <td>35.0</td>\n",
       "      <td>46.0</td>\n",
       "    </tr>\n",
       "    <tr>\n",
       "      <th>01005</th>\n",
       "      <td>26614</td>\n",
       "      <td>52.271415</td>\n",
       "      <td>46.660250</td>\n",
       "      <td>37.0</td>\n",
       "      <td>33.0</td>\n",
       "      <td>NaN</td>\n",
       "      <td>38.0</td>\n",
       "    </tr>\n",
       "  </tbody>\n",
       "</table>\n",
       "</div>"
      ],
      "text/plain": [
       "       total_pop  trump_pct_2016  clinton_pct_2016  flu_vax_pct  \\\n",
       "geoid                                                             \n",
       "01001      55049       73.435789         23.956855         41.0   \n",
       "01003     199510       77.351472         19.565310         45.0   \n",
       "01005      26614       52.271415         46.660250         37.0   \n",
       "\n",
       "       flu_vax_pct_black  flu_vax_pct_hispanic  flu_vax_pct_white  \n",
       "geoid                                                              \n",
       "01001               32.0                  36.0               42.0  \n",
       "01003               33.0                  35.0               46.0  \n",
       "01005               33.0                   NaN               38.0  "
      ]
     },
     "execution_count": 5,
     "metadata": {},
     "output_type": "execute_result"
    }
   ],
   "source": [
    "# Prepare a data frame with fields needed for analysis \n",
    "df = pd.DataFrame()\n",
    "df['total_pop'] = df_total_population['total_population']\n",
    "df['trump_pct_2016'] = (df_presidential_election_results['gop_2016'] / \n",
    "                        df_presidential_election_results['total_2016']) * 100\n",
    "df['clinton_pct_2016'] = (df_presidential_election_results['dem_2016'] / \n",
    "                          df_presidential_election_results['total_2016']) * 100\n",
    "df['flu_vax_pct'] = df_flu_vax_pct['flu_vax_pct']\n",
    "df['flu_vax_pct_black'] = df_flu_vax_pct['flu_vax_pct_black']\n",
    "df['flu_vax_pct_hispanic'] = df_flu_vax_pct['flu_vax_pct_hispanic']\n",
    "df['flu_vax_pct_white'] = df_flu_vax_pct['flu_vax_pct_white']\n",
    "df.head(3)"
   ]
  },
  {
   "cell_type": "markdown",
   "metadata": {},
   "source": [
    "#### III. Identify Columns with Missing or Peculiar Values"
   ]
  },
  {
   "cell_type": "code",
   "execution_count": 6,
   "metadata": {},
   "outputs": [
    {
     "data": {
      "text/plain": [
       "total_pop               False\n",
       "trump_pct_2016           True\n",
       "clinton_pct_2016         True\n",
       "flu_vax_pct              True\n",
       "flu_vax_pct_black        True\n",
       "flu_vax_pct_hispanic     True\n",
       "flu_vax_pct_white        True\n",
       "dtype: bool"
      ]
     },
     "execution_count": 6,
     "metadata": {},
     "output_type": "execute_result"
    }
   ],
   "source": [
    "# Determine which columns have missing values\n",
    "df.isna().any()"
   ]
  },
  {
   "cell_type": "code",
   "execution_count": 7,
   "metadata": {},
   "outputs": [
    {
     "name": "stdout",
     "output_type": "stream",
     "text": [
      "Negative Numbers Out of Bounds: False\n",
      "Positive Numbers Out of Bounds: False\n",
      "Null Values: True\n",
      "NaNs: True\n"
     ]
    }
   ],
   "source": [
    "# Query 'trump_pct_2016' column for peculiar values\n",
    "print('Negative Numbers Out of Bounds:', np.any(df['trump_pct_2016'] < 0))\n",
    "print('Positive Numbers Out of Bounds:', np.any(df['trump_pct_2016'] > 100))\n",
    "print('Null Values:', np.any(df['trump_pct_2016'].isnull()))\n",
    "print('NaNs:', np.any(np.isnan(df['trump_pct_2016'])))"
   ]
  },
  {
   "cell_type": "code",
   "execution_count": 8,
   "metadata": {},
   "outputs": [
    {
     "name": "stdout",
     "output_type": "stream",
     "text": [
      "Negative Numbers Out of Bounds: False\n",
      "Positive Numbers Out of Bounds: False\n",
      "Null Values: True\n",
      "NaNs: True\n"
     ]
    }
   ],
   "source": [
    "# Query 'clinton_pct_2016' column for peculiar values\n",
    "print('Negative Numbers Out of Bounds:', np.any(df['clinton_pct_2016'] < 0))\n",
    "print('Positive Numbers Out of Bounds:', np.any(df['clinton_pct_2016'] > 100))\n",
    "print('Null Values:', np.any(df['clinton_pct_2016'].isnull()))\n",
    "print('NaNs:', np.any(np.isnan(df['clinton_pct_2016'])))"
   ]
  },
  {
   "cell_type": "code",
   "execution_count": 9,
   "metadata": {},
   "outputs": [
    {
     "name": "stdout",
     "output_type": "stream",
     "text": [
      "Negative Numbers Out of Bounds: False\n",
      "Positive Numbers Out of Bounds: False\n",
      "Null Values: True\n",
      "NaNs: True\n"
     ]
    }
   ],
   "source": [
    "# Query 'flu_vax_pct' column for peculiar values\n",
    "print('Negative Numbers Out of Bounds:', np.any(df['flu_vax_pct'] < 0))\n",
    "print('Positive Numbers Out of Bounds:', np.any(df['flu_vax_pct'] > 100))\n",
    "print('Null Values:', np.any(df['flu_vax_pct'].isnull()))\n",
    "print('NaNs:', np.any(np.isnan(df['flu_vax_pct'])))"
   ]
  },
  {
   "cell_type": "code",
   "execution_count": 10,
   "metadata": {},
   "outputs": [
    {
     "name": "stdout",
     "output_type": "stream",
     "text": [
      "Negative Numbers Out of Bounds: False\n",
      "Positive Numbers Out of Bounds: False\n",
      "Null Values: True\n",
      "NaNs: True\n"
     ]
    }
   ],
   "source": [
    "# Query 'flu_vax_pct_black' column for peculiar values\n",
    "print('Negative Numbers Out of Bounds:', np.any(df['flu_vax_pct_black'] < 0))\n",
    "print('Positive Numbers Out of Bounds:', np.any(df['flu_vax_pct_black'] > 100))\n",
    "print('Null Values:', np.any(df['flu_vax_pct_black'].isnull()))\n",
    "print('NaNs:', np.any(np.isnan(df['flu_vax_pct_black'])))"
   ]
  },
  {
   "cell_type": "code",
   "execution_count": 11,
   "metadata": {},
   "outputs": [
    {
     "name": "stdout",
     "output_type": "stream",
     "text": [
      "Negative Numbers Out of Bounds: False\n",
      "Positive Numbers Out of Bounds: False\n",
      "Null Values: True\n",
      "NaNs: True\n"
     ]
    }
   ],
   "source": [
    "# Query 'flu_vax_pct_hispanic' column for peculiar values\n",
    "print('Negative Numbers Out of Bounds:', np.any(df['flu_vax_pct_hispanic'] < 0))\n",
    "print('Positive Numbers Out of Bounds:', np.any(df['flu_vax_pct_hispanic'] > 100))\n",
    "print('Null Values:', np.any(df['flu_vax_pct_hispanic'].isnull()))\n",
    "print('NaNs:', np.any(np.isnan(df['flu_vax_pct_hispanic'])))"
   ]
  },
  {
   "cell_type": "code",
   "execution_count": 12,
   "metadata": {},
   "outputs": [
    {
     "name": "stdout",
     "output_type": "stream",
     "text": [
      "Negative Numbers Out of Bounds: False\n",
      "Positive Numbers Out of Bounds: False\n",
      "Null Values: True\n",
      "NaNs: True\n"
     ]
    }
   ],
   "source": [
    "# Query 'flu_vax_pct_white' column for peculiar values\n",
    "print('Negative Numbers Out of Bounds:', np.any(df['flu_vax_pct_white'] < 0))\n",
    "print('Positive Numbers Out of Bounds:', np.any(df['flu_vax_pct_white'] > 100))\n",
    "print('Null Values:', np.any(df['flu_vax_pct_white'].isnull()))\n",
    "print('NaNs:', np.any(np.isnan(df['flu_vax_pct_white'])))"
   ]
  },
  {
   "cell_type": "code",
   "execution_count": 14,
   "metadata": {},
   "outputs": [],
   "source": [
    "df = df.fillna(value = -1)"
   ]
  },
  {
   "cell_type": "code",
   "execution_count": 17,
   "metadata": {},
   "outputs": [],
   "source": [
    "# Export data frame with missing values\n",
    "flu_vaccination_percentages_nan_values = df.to_csv(r'C:\\Advanced Analysis in GIS\\Flu Vaccinations\\Data' + \n",
    "                                                   r'\\flu_vaccination_percentages_nan_values.csv')"
   ]
  }
 ],
 "metadata": {
  "kernelspec": {
   "display_name": "Python 3",
   "language": "python",
   "name": "python3"
  },
  "language_info": {
   "codemirror_mode": {
    "name": "ipython",
    "version": 3
   },
   "file_extension": ".py",
   "mimetype": "text/x-python",
   "name": "python",
   "nbconvert_exporter": "python",
   "pygments_lexer": "ipython3",
   "version": "3.6.6"
  }
 },
 "nbformat": 4,
 "nbformat_minor": 2
}
